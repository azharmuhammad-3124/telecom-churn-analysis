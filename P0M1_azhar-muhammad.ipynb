{
 "cells": [
  {
   "cell_type": "markdown",
   "id": "bde19be1",
   "metadata": {},
   "source": [
    "Milestone 1\n",
    "\n",
    "Nama    : Azhar Muhammad\n",
    "\n",
    "Batch   : RMT-042\n",
    "\n",
    "Notebook ini dibuat untuk loading dan analisa data. Data ini berisi Customer Churn dari perusahaan telecom, analisis ini bertujuan untuk mengetahui 'monthly charge' rata-rata pelanggan kami yang menjadi customer, siapa saja pelanggan yang churn berdasarkan umur, serta berapa lama mereka bertahan sebelum churn. Selain itu, kami juga ingin mengetahui daerah dengan tingkat churn tertinggi, alasan utama pelanggan churn, dan bagaimana korelasi antara churn dengan alasan 'kompetitor' serta tempat tinggal pelanggan."
   ]
  },
  {
   "cell_type": "code",
   "execution_count": null,
   "id": "0276c21c",
   "metadata": {},
   "outputs": [
    {
     "data": {
      "text/html": [
       "<div>\n",
       "<style scoped>\n",
       "    .dataframe tbody tr th:only-of-type {\n",
       "        vertical-align: middle;\n",
       "    }\n",
       "\n",
       "    .dataframe tbody tr th {\n",
       "        vertical-align: top;\n",
       "    }\n",
       "\n",
       "    .dataframe thead th {\n",
       "        text-align: right;\n",
       "    }\n",
       "</style>\n",
       "<table border=\"1\" class=\"dataframe\">\n",
       "  <thead>\n",
       "    <tr style=\"text-align: right;\">\n",
       "      <th></th>\n",
       "      <th>Customer ID</th>\n",
       "      <th>Gender</th>\n",
       "      <th>Age</th>\n",
       "      <th>Married</th>\n",
       "      <th>Number of Dependents</th>\n",
       "      <th>City</th>\n",
       "      <th>Zip Code</th>\n",
       "      <th>Latitude</th>\n",
       "      <th>Longitude</th>\n",
       "      <th>Number of Referrals</th>\n",
       "      <th>...</th>\n",
       "      <th>Payment Method</th>\n",
       "      <th>Monthly Charge</th>\n",
       "      <th>Total Charges</th>\n",
       "      <th>Total Refunds</th>\n",
       "      <th>Total Extra Data Charges</th>\n",
       "      <th>Total Long Distance Charges</th>\n",
       "      <th>Total Revenue</th>\n",
       "      <th>Customer Status</th>\n",
       "      <th>Churn Category</th>\n",
       "      <th>Churn Reason</th>\n",
       "    </tr>\n",
       "  </thead>\n",
       "  <tbody>\n",
       "    <tr>\n",
       "      <th>0</th>\n",
       "      <td>0002-ORFBO</td>\n",
       "      <td>Female</td>\n",
       "      <td>37</td>\n",
       "      <td>Yes</td>\n",
       "      <td>0</td>\n",
       "      <td>Frazier Park</td>\n",
       "      <td>93225</td>\n",
       "      <td>34.827662</td>\n",
       "      <td>-118.999073</td>\n",
       "      <td>2</td>\n",
       "      <td>...</td>\n",
       "      <td>Credit Card</td>\n",
       "      <td>65.60</td>\n",
       "      <td>593.30</td>\n",
       "      <td>0.00</td>\n",
       "      <td>0</td>\n",
       "      <td>381.51</td>\n",
       "      <td>974.81</td>\n",
       "      <td>Stayed</td>\n",
       "      <td>NaN</td>\n",
       "      <td>NaN</td>\n",
       "    </tr>\n",
       "    <tr>\n",
       "      <th>1</th>\n",
       "      <td>0003-MKNFE</td>\n",
       "      <td>Male</td>\n",
       "      <td>46</td>\n",
       "      <td>No</td>\n",
       "      <td>0</td>\n",
       "      <td>Glendale</td>\n",
       "      <td>91206</td>\n",
       "      <td>34.162515</td>\n",
       "      <td>-118.203869</td>\n",
       "      <td>0</td>\n",
       "      <td>...</td>\n",
       "      <td>Credit Card</td>\n",
       "      <td>-4.00</td>\n",
       "      <td>542.40</td>\n",
       "      <td>38.33</td>\n",
       "      <td>10</td>\n",
       "      <td>96.21</td>\n",
       "      <td>610.28</td>\n",
       "      <td>Stayed</td>\n",
       "      <td>NaN</td>\n",
       "      <td>NaN</td>\n",
       "    </tr>\n",
       "    <tr>\n",
       "      <th>2</th>\n",
       "      <td>0004-TLHLJ</td>\n",
       "      <td>Male</td>\n",
       "      <td>50</td>\n",
       "      <td>No</td>\n",
       "      <td>0</td>\n",
       "      <td>Costa Mesa</td>\n",
       "      <td>92627</td>\n",
       "      <td>33.645672</td>\n",
       "      <td>-117.922613</td>\n",
       "      <td>0</td>\n",
       "      <td>...</td>\n",
       "      <td>Bank Withdrawal</td>\n",
       "      <td>73.90</td>\n",
       "      <td>280.85</td>\n",
       "      <td>0.00</td>\n",
       "      <td>0</td>\n",
       "      <td>134.60</td>\n",
       "      <td>415.45</td>\n",
       "      <td>Churned</td>\n",
       "      <td>Competitor</td>\n",
       "      <td>Competitor had better devices</td>\n",
       "    </tr>\n",
       "    <tr>\n",
       "      <th>3</th>\n",
       "      <td>0011-IGKFF</td>\n",
       "      <td>Male</td>\n",
       "      <td>78</td>\n",
       "      <td>Yes</td>\n",
       "      <td>0</td>\n",
       "      <td>Martinez</td>\n",
       "      <td>94553</td>\n",
       "      <td>38.014457</td>\n",
       "      <td>-122.115432</td>\n",
       "      <td>1</td>\n",
       "      <td>...</td>\n",
       "      <td>Bank Withdrawal</td>\n",
       "      <td>98.00</td>\n",
       "      <td>1237.85</td>\n",
       "      <td>0.00</td>\n",
       "      <td>0</td>\n",
       "      <td>361.66</td>\n",
       "      <td>1599.51</td>\n",
       "      <td>Churned</td>\n",
       "      <td>Dissatisfaction</td>\n",
       "      <td>Product dissatisfaction</td>\n",
       "    </tr>\n",
       "    <tr>\n",
       "      <th>4</th>\n",
       "      <td>0013-EXCHZ</td>\n",
       "      <td>Female</td>\n",
       "      <td>75</td>\n",
       "      <td>Yes</td>\n",
       "      <td>0</td>\n",
       "      <td>Camarillo</td>\n",
       "      <td>93010</td>\n",
       "      <td>34.227846</td>\n",
       "      <td>-119.079903</td>\n",
       "      <td>3</td>\n",
       "      <td>...</td>\n",
       "      <td>Credit Card</td>\n",
       "      <td>83.90</td>\n",
       "      <td>267.40</td>\n",
       "      <td>0.00</td>\n",
       "      <td>0</td>\n",
       "      <td>22.14</td>\n",
       "      <td>289.54</td>\n",
       "      <td>Churned</td>\n",
       "      <td>Dissatisfaction</td>\n",
       "      <td>Network reliability</td>\n",
       "    </tr>\n",
       "    <tr>\n",
       "      <th>...</th>\n",
       "      <td>...</td>\n",
       "      <td>...</td>\n",
       "      <td>...</td>\n",
       "      <td>...</td>\n",
       "      <td>...</td>\n",
       "      <td>...</td>\n",
       "      <td>...</td>\n",
       "      <td>...</td>\n",
       "      <td>...</td>\n",
       "      <td>...</td>\n",
       "      <td>...</td>\n",
       "      <td>...</td>\n",
       "      <td>...</td>\n",
       "      <td>...</td>\n",
       "      <td>...</td>\n",
       "      <td>...</td>\n",
       "      <td>...</td>\n",
       "      <td>...</td>\n",
       "      <td>...</td>\n",
       "      <td>...</td>\n",
       "      <td>...</td>\n",
       "    </tr>\n",
       "    <tr>\n",
       "      <th>7038</th>\n",
       "      <td>9987-LUTYD</td>\n",
       "      <td>Female</td>\n",
       "      <td>20</td>\n",
       "      <td>No</td>\n",
       "      <td>0</td>\n",
       "      <td>La Mesa</td>\n",
       "      <td>91941</td>\n",
       "      <td>32.759327</td>\n",
       "      <td>-116.997260</td>\n",
       "      <td>0</td>\n",
       "      <td>...</td>\n",
       "      <td>Credit Card</td>\n",
       "      <td>55.15</td>\n",
       "      <td>742.90</td>\n",
       "      <td>0.00</td>\n",
       "      <td>0</td>\n",
       "      <td>606.84</td>\n",
       "      <td>1349.74</td>\n",
       "      <td>Stayed</td>\n",
       "      <td>NaN</td>\n",
       "      <td>NaN</td>\n",
       "    </tr>\n",
       "    <tr>\n",
       "      <th>7039</th>\n",
       "      <td>9992-RRAMN</td>\n",
       "      <td>Male</td>\n",
       "      <td>40</td>\n",
       "      <td>Yes</td>\n",
       "      <td>0</td>\n",
       "      <td>Riverbank</td>\n",
       "      <td>95367</td>\n",
       "      <td>37.734971</td>\n",
       "      <td>-120.954271</td>\n",
       "      <td>1</td>\n",
       "      <td>...</td>\n",
       "      <td>Bank Withdrawal</td>\n",
       "      <td>85.10</td>\n",
       "      <td>1873.70</td>\n",
       "      <td>0.00</td>\n",
       "      <td>0</td>\n",
       "      <td>356.40</td>\n",
       "      <td>2230.10</td>\n",
       "      <td>Churned</td>\n",
       "      <td>Dissatisfaction</td>\n",
       "      <td>Product dissatisfaction</td>\n",
       "    </tr>\n",
       "    <tr>\n",
       "      <th>7040</th>\n",
       "      <td>9992-UJOEL</td>\n",
       "      <td>Male</td>\n",
       "      <td>22</td>\n",
       "      <td>No</td>\n",
       "      <td>0</td>\n",
       "      <td>Elk</td>\n",
       "      <td>95432</td>\n",
       "      <td>39.108252</td>\n",
       "      <td>-123.645121</td>\n",
       "      <td>0</td>\n",
       "      <td>...</td>\n",
       "      <td>Credit Card</td>\n",
       "      <td>50.30</td>\n",
       "      <td>92.75</td>\n",
       "      <td>0.00</td>\n",
       "      <td>0</td>\n",
       "      <td>37.24</td>\n",
       "      <td>129.99</td>\n",
       "      <td>Joined</td>\n",
       "      <td>NaN</td>\n",
       "      <td>NaN</td>\n",
       "    </tr>\n",
       "    <tr>\n",
       "      <th>7041</th>\n",
       "      <td>9993-LHIEB</td>\n",
       "      <td>Male</td>\n",
       "      <td>21</td>\n",
       "      <td>Yes</td>\n",
       "      <td>0</td>\n",
       "      <td>Solana Beach</td>\n",
       "      <td>92075</td>\n",
       "      <td>33.001813</td>\n",
       "      <td>-117.263628</td>\n",
       "      <td>5</td>\n",
       "      <td>...</td>\n",
       "      <td>Credit Card</td>\n",
       "      <td>67.85</td>\n",
       "      <td>4627.65</td>\n",
       "      <td>0.00</td>\n",
       "      <td>0</td>\n",
       "      <td>142.04</td>\n",
       "      <td>4769.69</td>\n",
       "      <td>Stayed</td>\n",
       "      <td>NaN</td>\n",
       "      <td>NaN</td>\n",
       "    </tr>\n",
       "    <tr>\n",
       "      <th>7042</th>\n",
       "      <td>9995-HOTOH</td>\n",
       "      <td>Male</td>\n",
       "      <td>36</td>\n",
       "      <td>Yes</td>\n",
       "      <td>0</td>\n",
       "      <td>Sierra City</td>\n",
       "      <td>96125</td>\n",
       "      <td>39.600599</td>\n",
       "      <td>-120.636358</td>\n",
       "      <td>1</td>\n",
       "      <td>...</td>\n",
       "      <td>Bank Withdrawal</td>\n",
       "      <td>59.00</td>\n",
       "      <td>3707.60</td>\n",
       "      <td>0.00</td>\n",
       "      <td>0</td>\n",
       "      <td>0.00</td>\n",
       "      <td>3707.60</td>\n",
       "      <td>Stayed</td>\n",
       "      <td>NaN</td>\n",
       "      <td>NaN</td>\n",
       "    </tr>\n",
       "  </tbody>\n",
       "</table>\n",
       "<p>7043 rows × 38 columns</p>\n",
       "</div>"
      ],
      "text/plain": [
       "     Customer ID  Gender  Age Married  Number of Dependents          City  \\\n",
       "0     0002-ORFBO  Female   37     Yes                     0  Frazier Park   \n",
       "1     0003-MKNFE    Male   46      No                     0      Glendale   \n",
       "2     0004-TLHLJ    Male   50      No                     0    Costa Mesa   \n",
       "3     0011-IGKFF    Male   78     Yes                     0      Martinez   \n",
       "4     0013-EXCHZ  Female   75     Yes                     0     Camarillo   \n",
       "...          ...     ...  ...     ...                   ...           ...   \n",
       "7038  9987-LUTYD  Female   20      No                     0       La Mesa   \n",
       "7039  9992-RRAMN    Male   40     Yes                     0     Riverbank   \n",
       "7040  9992-UJOEL    Male   22      No                     0           Elk   \n",
       "7041  9993-LHIEB    Male   21     Yes                     0  Solana Beach   \n",
       "7042  9995-HOTOH    Male   36     Yes                     0   Sierra City   \n",
       "\n",
       "      Zip Code   Latitude   Longitude  Number of Referrals  ...  \\\n",
       "0        93225  34.827662 -118.999073                    2  ...   \n",
       "1        91206  34.162515 -118.203869                    0  ...   \n",
       "2        92627  33.645672 -117.922613                    0  ...   \n",
       "3        94553  38.014457 -122.115432                    1  ...   \n",
       "4        93010  34.227846 -119.079903                    3  ...   \n",
       "...        ...        ...         ...                  ...  ...   \n",
       "7038     91941  32.759327 -116.997260                    0  ...   \n",
       "7039     95367  37.734971 -120.954271                    1  ...   \n",
       "7040     95432  39.108252 -123.645121                    0  ...   \n",
       "7041     92075  33.001813 -117.263628                    5  ...   \n",
       "7042     96125  39.600599 -120.636358                    1  ...   \n",
       "\n",
       "       Payment Method Monthly Charge Total Charges  Total Refunds  \\\n",
       "0         Credit Card          65.60        593.30           0.00   \n",
       "1         Credit Card          -4.00        542.40          38.33   \n",
       "2     Bank Withdrawal          73.90        280.85           0.00   \n",
       "3     Bank Withdrawal          98.00       1237.85           0.00   \n",
       "4         Credit Card          83.90        267.40           0.00   \n",
       "...               ...            ...           ...            ...   \n",
       "7038      Credit Card          55.15        742.90           0.00   \n",
       "7039  Bank Withdrawal          85.10       1873.70           0.00   \n",
       "7040      Credit Card          50.30         92.75           0.00   \n",
       "7041      Credit Card          67.85       4627.65           0.00   \n",
       "7042  Bank Withdrawal          59.00       3707.60           0.00   \n",
       "\n",
       "     Total Extra Data Charges Total Long Distance Charges Total Revenue  \\\n",
       "0                           0                      381.51        974.81   \n",
       "1                          10                       96.21        610.28   \n",
       "2                           0                      134.60        415.45   \n",
       "3                           0                      361.66       1599.51   \n",
       "4                           0                       22.14        289.54   \n",
       "...                       ...                         ...           ...   \n",
       "7038                        0                      606.84       1349.74   \n",
       "7039                        0                      356.40       2230.10   \n",
       "7040                        0                       37.24        129.99   \n",
       "7041                        0                      142.04       4769.69   \n",
       "7042                        0                        0.00       3707.60   \n",
       "\n",
       "      Customer Status   Churn Category                   Churn Reason  \n",
       "0              Stayed              NaN                            NaN  \n",
       "1              Stayed              NaN                            NaN  \n",
       "2             Churned       Competitor  Competitor had better devices  \n",
       "3             Churned  Dissatisfaction        Product dissatisfaction  \n",
       "4             Churned  Dissatisfaction            Network reliability  \n",
       "...               ...              ...                            ...  \n",
       "7038           Stayed              NaN                            NaN  \n",
       "7039          Churned  Dissatisfaction        Product dissatisfaction  \n",
       "7040           Joined              NaN                            NaN  \n",
       "7041           Stayed              NaN                            NaN  \n",
       "7042           Stayed              NaN                            NaN  \n",
       "\n",
       "[7043 rows x 38 columns]"
      ]
     },
     "execution_count": 1,
     "metadata": {},
     "output_type": "execute_result"
    }
   ],
   "source": [
    "# Load Data CSV\n",
    "\n",
    "import pandas as pd\n",
    "\n",
    "df = pd.read_csv(r'E:\\FTDS\\p0-ftds042-rmt-m1-azharmuhammad-3124\\telecom_customer_churn.csv')\n",
    "\n",
    "df"
   ]
  },
  {
   "cell_type": "markdown",
   "id": "d80d7ca1",
   "metadata": {},
   "source": [
    "1. Siapa saja yang Churn berdasarkan generasi"
   ]
  },
  {
   "cell_type": "code",
   "execution_count": null,
   "id": "595e44c3",
   "metadata": {},
   "outputs": [],
   "source": [
    "# Membuat kategori berdasarkan generasi\n",
    "def categorize_generation_by_age(age):\n",
    "    if 61 <= age <= 79:\n",
    "        return \"Baby Boomers\"\n",
    "    elif 45 <= age <= 60:\n",
    "        return \"Generation X\"\n",
    "    elif 29 <= age <= 44:\n",
    "        return \"Millennials\"\n",
    "    elif 13 <= age <= 28:\n",
    "        return \"Generation Z\"\n",
    "    else:\n",
    "        return \"Other\"\n",
    "\n",
    "df['Generation'] = df['Age'].apply(categorize_generation_by_age)"
   ]
  },
  {
   "cell_type": "code",
   "execution_count": null,
   "id": "ce5c0ff2",
   "metadata": {},
   "outputs": [
    {
     "name": "stderr",
     "output_type": "stream",
     "text": [
      "C:\\Users\\Azhar Muhammad\\AppData\\Local\\Temp\\ipykernel_23640\\2062198674.py:10: FutureWarning: \n",
      "\n",
      "Passing `palette` without assigning `hue` is deprecated and will be removed in v0.14.0. Assign the `x` variable to `hue` and set `legend=False` for the same effect.\n",
      "\n",
      "  sns.barplot(x=generation_counts.index, y=generation_counts.values, palette='rocket')\n"
     ]
    },
    {
     "data": {
      "image/png": "[encoded data removed]",
      "text/plain": [
       "<Figure size 640x480 with 1 Axes>"
      ]
     },
     "metadata": {},
     "output_type": "display_data"
    }
   ],
   "source": [
    "import seaborn as sns\n",
    "import matplotlib.pyplot as plt\n",
    "\n",
    "# Mengambil yang churned dari customer status\n",
    "churned_df = df[df['Customer Status'] == 'Churned']\n",
    "\n",
    "# Hitung jumlah churned per generasi\n",
    "generation_counts = churned_df['Generation'].value_counts().sort_index()\n",
    "\n",
    "# Visualisai sebagai output\n",
    "sns.barplot(x=generation_counts.index, y=generation_counts.values, palette='rocket')\n",
    "plt.title('Jumlah Churned per Generasi')\n",
    "plt.xlabel('Generasi')\n",
    "plt.ylabel('Jumlah Churned')\n",
    "plt.xticks(rotation=45)\n",
    "plt.tight_layout()\n",
    "plt.show()"
   ]
  },
  {
   "cell_type": "markdown",
   "id": "c573cda9",
   "metadata": {},
   "source": [
    "Insight \n",
    "\n",
    "Baby boomers menjadi customer yang paling banyak churn, GenX dan Millennials hampir sama dengan jumlah yang mirip, dan GenZ\n",
    "memiliki jumlah customer churn yang paling sedikit."
   ]
  },
  {
   "cell_type": "markdown",
   "id": "b30d823c",
   "metadata": {},
   "source": [
    "2. Setelah berapa lama mereka menjadi customer sebelum churn"
   ]
  },
  {
   "cell_type": "code",
   "execution_count": null,
   "id": "5b8d87f9",
   "metadata": {},
   "outputs": [
    {
     "name": "stderr",
     "output_type": "stream",
     "text": [
      "C:\\Users\\Azhar Muhammad\\AppData\\Local\\Temp\\ipykernel_23640\\3488129747.py:4: FutureWarning: \n",
      "\n",
      "The `ci` parameter is deprecated. Use `errorbar=None` for the same effect.\n",
      "\n",
      "  sns.barplot(x='Customer Status', y='Duration as Customer', data=df, ci=None)\n"
     ]
    },
    {
     "data": {
      "image/png": "[encoded data removed]",
      "text/plain": [
       "<Figure size 640x480 with 1 Axes>"
      ]
     },
     "metadata": {},
     "output_type": "display_data"
    }
   ],
   "source": [
    "# Mengambil durasi customer perbulan sebelum churn\n",
    "df['Duration as Customer'] = df['Total Charges'] / df['Monthly Charge']\n",
    "\n",
    "# Visualisasi sebagai output\n",
    "sns.barplot(x='Customer Status', y='Duration as Customer', data=df, ci=None)\n",
    "plt.title('Average Duration as Customer by Customer Status')\n",
    "plt.show()"
   ]
  },
  {
   "cell_type": "markdown",
   "id": "8cf8b887",
   "metadata": {},
   "source": [
    "Insight\n",
    "\n",
    "Dari tabel ini bisa dilihat bahwa customer yang sudah berlanggan lebih dari 10 bulan akan terus berlangganan, sedangkan customer yang baru berlangganan selama di bawah 10 bulan lebih cenderung untuk churn."
   ]
  },
  {
   "cell_type": "markdown",
   "id": "0e3aced1",
   "metadata": {},
   "source": [
    "3. Daerah yang paling banyak customer churn"
   ]
  },
  {
   "cell_type": "code",
   "execution_count": 6,
   "id": "08dc61c6",
   "metadata": {},
   "outputs": [],
   "source": [
    "# Mengkategorikan berdasarkan zipcode\n",
    "def assign_ca_region(zipcode):\n",
    "    zip_int = int(str(zipcode).zfill(5))\n",
    "\n",
    "    if 90000 <= zip_int <= 93599:\n",
    "        if zip_int <= 93000:\n",
    "            return \"Southern California\"\n",
    "        elif 93001 <= zip_int <= 93499:\n",
    "            return \"Central California\"\n",
    "        elif 93500 <= zip_int <= 93599:\n",
    "            return \"Eastern California\"\n",
    "    elif 93600 <= zip_int <= 93999:\n",
    "        return \"Central California\"\n",
    "    elif 94000 <= zip_int <= 96162:\n",
    "        if 93900 <= zip_int <= 95999:\n",
    "            return \"Western California\"\n",
    "        else:\n",
    "            return \"Northern California\"\n",
    "    else:\n",
    "        return \"Outside California\"\n",
    "\n",
    "    \n",
    "# Membuat column baru\n",
    "df['Region'] = df['Zip Code'].apply(assign_ca_region)\n",
    "# Mengambil hanya yang churned\n",
    "df_churned = df[df['Customer Status'] == 'Churned']\n",
    "\n",
    "# Membuat dataframe baru untuk di masukkan ke visualisasi\n",
    "region_churn = df_churned['Region'].value_counts().reset_index()\n",
    "region_churn.columns = ['Region', 'Churn Count']\n"
   ]
  },
  {
   "cell_type": "code",
   "execution_count": 7,
   "id": "32391458",
   "metadata": {},
   "outputs": [
    {
     "name": "stderr",
     "output_type": "stream",
     "text": [
      "C:\\Users\\Azhar Muhammad\\AppData\\Local\\Temp\\ipykernel_23640\\1620470734.py:3: FutureWarning: \n",
      "\n",
      "Passing `palette` without assigning `hue` is deprecated and will be removed in v0.14.0. Assign the `x` variable to `hue` and set `legend=False` for the same effect.\n",
      "\n",
      "  sns.barplot(data=region_churn, x='Region', y='Churn Count', palette='Reds')\n"
     ]
    },
    {
     "data": {
      "image/png": "[encoded data removed]",
      "text/plain": [
       "<Figure size 1000x600 with 1 Axes>"
      ]
     },
     "metadata": {},
     "output_type": "display_data"
    }
   ],
   "source": [
    "# Visualisasi sebagai output\n",
    "plt.figure(figsize=(10, 6))\n",
    "sns.barplot(data=region_churn, x='Region', y='Churn Count', palette='Reds')\n",
    "plt.title(\"Churned Customers by California Region\")\n",
    "plt.ylabel(\"Number of Churned Customers\")\n",
    "plt.xlabel(\"Region\")\n",
    "plt.xticks(rotation=30)\n",
    "plt.tight_layout()\n",
    "plt.show()"
   ]
  },
  {
   "cell_type": "markdown",
   "id": "49fb0e5b",
   "metadata": {},
   "source": [
    "Insight\n",
    "\n",
    "Southern California memiliki jumlah customer yang churn yang jauh lebih banyak di bandingkan Eastern California"
   ]
  },
  {
   "cell_type": "markdown",
   "id": "c81aab4c",
   "metadata": {},
   "source": [
    "4. Rata-rata alasan churn"
   ]
  },
  {
   "cell_type": "code",
   "execution_count": null,
   "id": "b9a9e8e0",
   "metadata": {},
   "outputs": [
    {
     "name": "stderr",
     "output_type": "stream",
     "text": [
      "C:\\Users\\Azhar Muhammad\\AppData\\Local\\Temp\\ipykernel_23640\\3949691898.py:2: FutureWarning: \n",
      "\n",
      "Passing `palette` without assigning `hue` is deprecated and will be removed in v0.14.0. Assign the `x` variable to `hue` and set `legend=False` for the same effect.\n",
      "\n",
      "  sns.countplot(data=df, x='Churn Category', palette='Set2')\n"
     ]
    },
    {
     "data": {
      "image/png": "[encoded data removed]",
      "text/plain": [
       "<Figure size 800x500 with 1 Axes>"
      ]
     },
     "metadata": {},
     "output_type": "display_data"
    }
   ],
   "source": [
    "# Membuat visualisai untuk jumlah alasan churn\n",
    "plt.figure(figsize=(8, 5))\n",
    "sns.countplot(data=df, x='Churn Category', palette='Set2')\n",
    "plt.title(\"Churn Category Count\")\n",
    "plt.xlabel(\"Customer Status\")\n",
    "plt.ylabel(\"Count\")\n",
    "plt.tight_layout()\n",
    "plt.show()"
   ]
  },
  {
   "cell_type": "markdown",
   "id": "e1363dd5",
   "metadata": {},
   "source": [
    "Insight\n",
    "\n",
    "Competitor menjadi alasan paling banyak customer churn dan dissatisfaction jauh kedua, dari dua poin kita bisa mengambil kesimpulan bahwa kompetitor kita memiliki produk yang jauh lebih baik."
   ]
  },
  {
   "cell_type": "markdown",
   "id": "1dfc9410",
   "metadata": {},
   "source": [
    "5. Bagaimana korelasi antara customer yang churn dengan alasan 'Competitor' dan daerah (Region)"
   ]
  },
  {
   "cell_type": "code",
   "execution_count": 9,
   "id": "55c0fb44",
   "metadata": {},
   "outputs": [
    {
     "name": "stdout",
     "output_type": "stream",
     "text": [
      "Chi-Square Value: 263.48348704958477\n",
      "Degrees of Freedom: 76\n",
      "P-Value: 1.651057597005979e-22\n"
     ]
    }
   ],
   "source": [
    "from scipy.stats import chi2_contingency\n",
    "\n",
    "df_churned = df[df['Customer Status'] == 'Churned']\n",
    "\n",
    "# Buat tabel kontingensi: Region vs Alasan Churn\n",
    "contingency_table = pd.crosstab(df_churned['Region'], df_churned['Churn Reason'])\n",
    "\n",
    "# Chi-Square Test\n",
    "chi2, p, dof, expected = chi2_contingency(contingency_table)\n",
    "\n",
    "# Output hasil\n",
    "print(\"Chi-Square Value:\", chi2)\n",
    "print(\"Degrees of Freedom:\", dof)\n",
    "print(\"P-Value:\", p)\n"
   ]
  },
  {
   "cell_type": "markdown",
   "id": "359ce1fd",
   "metadata": {},
   "source": [
    "Insight\n",
    "\n",
    "Chi-Square Value: Nilai yang besar menunjukkan variabel yang diuji tidak independen dan memiliki hubungan yang signifikan antara keduanya.\n",
    "\n",
    "Degrees of Freedom: Dihitung berdasarkan jumlah kategori dalam data dan digunakan untuk menentukan distribusi Chi-Square yang tepat untuk analisis ini.\n",
    "\n",
    "P-Value: Nilai yang sangat kecil (0.0000000000000000000000165) jauh di batas umum (0.05), dengan nilai tersebut kita bisa menganggapnya nol yang berarti memilki nilai signifikan antara dua variable, seperti yang sudah kita analisis dari chi-square value."
   ]
  },
  {
   "cell_type": "code",
   "execution_count": 10,
   "id": "2701ec74",
   "metadata": {},
   "outputs": [
    {
     "name": "stdout",
     "output_type": "stream",
     "text": [
      "Region               Churn Category \n",
      "Central California   Competitor          71\n",
      "                     Attitude            62\n",
      "                     Dissatisfaction     31\n",
      "                     Price               23\n",
      "                     Other               22\n",
      "Eastern California   Competitor          23\n",
      "                     Attitude             8\n",
      "                     Other                2\n",
      "                     Dissatisfaction      1\n",
      "Northern California  Competitor          34\n",
      "                     Dissatisfaction     21\n",
      "                     Price               16\n",
      "                     Attitude            12\n",
      "                     Other               11\n",
      "Southern California  Competitor         401\n",
      "                     Attitude           146\n",
      "                     Dissatisfaction    126\n",
      "                     Price               82\n",
      "                     Other               81\n",
      "Western California   Competitor         312\n",
      "                     Dissatisfaction    142\n",
      "                     Price               90\n",
      "                     Attitude            86\n",
      "                     Other               66\n",
      "Name: count, dtype: int64\n"
     ]
    }
   ],
   "source": [
    "# Lihat distribusi alasan churn per region\n",
    "churn_distribution = df[df['Customer Status'] == 'Churned'].groupby('Region')['Churn Category'].value_counts()\n",
    "\n",
    "print(churn_distribution)"
   ]
  },
  {
   "cell_type": "markdown",
   "id": "72ce2eb7",
   "metadata": {},
   "source": [
    "Insight\n",
    "\n",
    "Dari output ini kita bisa melihat hubungan anatara alasan 'Competitor' dan daerah, Western dan Southern California memiliki jumlah 'Competitor' sebagai alasan yang sangat besar. Dan seperti yang kita lihat juga di poin 3 bahwa Western dan Southern California menjadi tempat paling banyak customer churn dari perusahaan ini."
   ]
  },
  {
   "cell_type": "markdown",
   "id": "8fe1e470",
   "metadata": {},
   "source": [
    "6. Statistika deskriptif untuk 'Monthly Charge'"
   ]
  },
  {
   "cell_type": "code",
   "execution_count": 11,
   "id": "d89c4a9f",
   "metadata": {},
   "outputs": [],
   "source": [
    "# 1. Central Tendecies\n",
    "mean = df['Monthly Charge'].mean()\n",
    "median = df['Monthly Charge'].median()\n",
    "mode = df['Monthly Charge'].mode().values\n",
    "\n",
    "# 2. Measure of Variance\n",
    "std_dev = df['Monthly Charge'].std()\n",
    "variance = df['Monthly Charge'].var()\n",
    "range_val = df['Monthly Charge'].max() - df['Monthly Charge'].min()\n",
    "\n",
    "# 3. Outlier Analysis\n",
    "Q1 = df['Monthly Charge'].quantile(0.25)\n",
    "Q3 = df['Monthly Charge'].quantile(0.75)\n",
    "IQR = Q3 - Q1\n",
    "lower_bound = Q1 - 1.5 * IQR\n",
    "upper_bound = Q3 + 1.5 * IQR\n",
    "outliers = df[(df['Monthly Charge'] < lower_bound) | (df['Monthly Charge'] > upper_bound)]"
   ]
  },
  {
   "cell_type": "code",
   "execution_count": 12,
   "id": "311e580e",
   "metadata": {},
   "outputs": [
    {
     "name": "stdout",
     "output_type": "stream",
     "text": [
      "=== Central Tendencies ===\n",
      "Mean: 63.59613091012353\n",
      "Median: 70.05\n",
      "Mode: [20.05]\n",
      "=== Measure of Variance ===\n",
      "Standard Deviation: 31.204743115579422\n",
      "Variance: 973.7359929093014\n",
      "Range: 128.75\n",
      "=== Outlier Analysis ===\n",
      "Q1: 30.4\n",
      "Q3: 89.75\n",
      "IQR: 59.35\n",
      "Lower Bound: -58.62500000000001\n",
      "Upper Bound: 178.775\n",
      "Outliers:Empty DataFrame\n",
      "Columns: [Customer ID, Gender, Age, Married, Number of Dependents, City, Zip Code, Latitude, Longitude, Number of Referrals, Tenure in Months, Offer, Phone Service, Avg Monthly Long Distance Charges, Multiple Lines, Internet Service, Internet Type, Avg Monthly GB Download, Online Security, Online Backup, Device Protection Plan, Premium Tech Support, Streaming TV, Streaming Movies, Streaming Music, Unlimited Data, Contract, Paperless Billing, Payment Method, Monthly Charge, Total Charges, Total Refunds, Total Extra Data Charges, Total Long Distance Charges, Total Revenue, Customer Status, Churn Category, Churn Reason, Generation, Duration as Customer, Region]\n",
      "Index: []\n",
      "\n",
      "[0 rows x 41 columns]\n"
     ]
    }
   ],
   "source": [
    "# Output perhitungan statistika deskriptif\n",
    "print(\"=== Central Tendencies ===\")\n",
    "print(f\"Mean: {mean}\")\n",
    "print(f\"Median: {median}\")\n",
    "print(f\"Mode: {mode}\")\n",
    "\n",
    "print(\"=== Measure of Variance ===\")\n",
    "print(f\"Standard Deviation: {std_dev}\")\n",
    "print(f\"Variance: {variance}\")\n",
    "print(f\"Range: {range_val}\")\n",
    "\n",
    "print(\"=== Outlier Analysis ===\")\n",
    "print(f\"Q1: {Q1}\")\n",
    "print(f\"Q3: {Q3}\")\n",
    "print(f\"IQR: {IQR}\")\n",
    "print(f\"Lower Bound: {lower_bound}\")\n",
    "print(f\"Upper Bound: {upper_bound}\")\n",
    "print(f\"Outliers:{outliers}\")"
   ]
  },
  {
   "cell_type": "markdown",
   "id": "b85b158b",
   "metadata": {},
   "source": [
    "Insight\n",
    "\n",
    "Mayoritas pelanggan memiliki durasi berlangganan antara 30 hingga 90 bulan dengan penyebaran yang luas, mencakup pelanggan yang berhenti lebih cepat sekitar 20 bulan dan yang bertahan sangat lama hingga lebih dari 150 bulan, tanpa adanya outlier, sehingga variasi ini merupakan bagian alami dari pola data yang condong ke kiri."
   ]
  },
  {
   "cell_type": "markdown",
   "id": "4313e707",
   "metadata": {},
   "source": [
    "KESIMPULAN AKHIR\n",
    "\n",
    "Dari hasil analisis, terlihat bahwa mayoritas pelanggan yang churn berasal dari generasi Baby Boomers, sementara Gen Z memiliki tingkat churn terendah, menunjukkan adanya perbedaan perilaku antar generasi dalam loyalitas terhadap layanan. Pelanggan yang bertahan lebih dari 10 bulan cenderung tetap berlangganan, menandakan masa awal langganan sebagai fase paling rentan terhadap churn. Wilayah Southern dan Western California mencatat churn tertinggi, dengan Southern California secara khusus menunjukkan tingkat churn yang jauh lebih tinggi dibanding wilayah lain seperti Eastern California. Alasan utama pelanggan churn adalah beralih ke kompetitor, yang mengindikasikan bahwa pesaing mungkin menawarkan produk atau layanan yang lebih menarik. Hasil uji Chi-Square menunjukkan adanya hubungan yang signifikan secara statistik antara alasan churn dan wilayah, memperkuat temuan bahwa churn karena kompetitor lebih dominan di wilayah tertentu. Kombinasi dari temuan-temuan ini menyoroti pentingnya strategi retensi pelanggan yang ditargetkan berdasarkan demografi, durasi langganan, dan lokasi geografis, serta perlunya inovasi layanan untuk menyaingi daya tarik kompetitor di wilayah kunci."
   ]
  }
 ],
 "metadata": {
  "kernelspec": {
   "display_name": "base",
   "language": "python",
   "name": "python3"
  },
  "language_info": {
   "codemirror_mode": {
    "name": "ipython",
    "version": 3
   },
   "file_extension": ".py",
   "mimetype": "text/x-python",
   "name": "python",
   "nbconvert_exporter": "python",
   "pygments_lexer": "ipython3",
   "version": "3.12.9"
  }
 },
 "nbformat": 4,
 "nbformat_minor": 5
}
